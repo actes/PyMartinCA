{
 "cells": [
  {
   "cell_type": "code",
   "execution_count": 2,
   "metadata": {},
   "outputs": [],
   "source": [
    "################ tunable parameters\n",
    "\n",
    "input_file1='default.rules.csv'\n",
    "input_file1='borderline1.rules.csv'\n",
    "\n",
    "output_file1='1.rules.csv'\n",
    "\n",
    "wt=1800##3000#2400#1800#1500#1200#900#700\n",
    "w2=wt#400#200#100#50#1000#256#128#16#25\n",
    "h2=w2#16\n",
    "niter =wt#600#500#400#300#6##1000#500###800 # #1500\n",
    "step1=12 #4 #20 #8 #15 #5 #1 #37 #2\n",
    "step2=120#12#60 #120 #1\n"
   ]
  },
  {
   "cell_type": "code",
   "execution_count": null,
   "metadata": {},
   "outputs": [
    {
     "name": "stdout",
     "output_type": "stream",
     "text": [
      "tag1 time_s time11 pop_s population ratio_s PPratio space_s w2 h2 w h rule_s rulespace rulestr\n"
     ]
    }
   ],
   "source": [
    "from __future__ import print_function\n",
    "\n",
    "#%matplotlib notebook\n",
    "##%matplotlib inline\n",
    "#from matplotlib import pyplot as plt\n",
    "\n",
    "import math\n",
    "import lifelib\n",
    "\n",
    "#schema1='tag1,time_s,time11,pop_s,population,ratio_s,PPratio,log2PP,space_s,w2,h2,w,h,rule_s,rulespace,rulestr'\n",
    "schema1='tag1,time_s,time11,pop_s,population,ratio_s,PPratio,space_s,w2,h2,w,h,rule_s,rulespace,rulestr'\n",
    "print(schema1.replace(',',' '))\n",
    "\n",
    "\n",
    "\n",
    "#plt.figure()\n",
    "\n",
    "##plt.yscale('log')\n",
    "#plt.loglog()\n",
    "\n",
    "#plt.ion()\n",
    "##plt.ioff()\n",
    "\n",
    "\n",
    "with open(input_file1) as f0:\n",
    "    input1=f0.read()\n",
    "\n",
    "sp0=input1.splitlines()\n",
    "\n",
    "for sp01 in sp0:\n",
    "    sp5=sp01.split()\n",
    "    #print(sp5)\n",
    "    i5=sp5.index('lifelib')\n",
    "    rulestr=sp5[i5+1]\n",
    "    #print(rulestr)\n",
    "    space1=' '\n",
    "    rest1=space1.join(sp5[i5+2:])\n",
    "    #print(rest1)\n",
    "    \n",
    "#for dbs in range(-ndbs,ndbs+1):\n",
    "##for dbs in range(-1,2):\n",
    "##for dbmax in range(ndbmax):\n",
    "\n",
    "    #bmin=bmin0#+dbs\n",
    "    #bmax=bmax0+dbs\n",
    "    #smin=smin0#+dbs\n",
    "    #smax=smax0#+dbs\n",
    "\n",
    "    #rulestr='b3s23'\n",
    "    #rulestr='r2b7t12s7t10'  ## niter <2000 or too much memory ? RADEJI ZATIM NEDAVAT DO FORUM\n",
    "    #rulestr='b{}s23'.format(bmax)\n",
    "    ######rulestr='r1b3t{}s3t4'.format(bmax)\n",
    "    ##rulestr='r2b7t12s7t10'.format(bmax)\n",
    "    #rulestr='r{}b{}t{}s{}t{}'.format(r,bmin,bmax,smin,smax)\n",
    "    \n",
    "    #rulestr=lifelib.sanirule(rulestr)\n",
    "    sess = lifelib.load_rules(rulestr)\n",
    "    #sess = lifelib.load_rules('r2b7t12s7t10')\n",
    "    #sess = lifelib.load_rules('r2b7t9s7t10')\n",
    "\n",
    "    lt = sess.lifetree()\n",
    "\n",
    "    p1=lt.pattern()\n",
    "    p=0.3###08#02#05 #1#2#3#4#5 \n",
    "    p1[0:h2, 0:w2] = p\n",
    "\n",
    "    ################################\n",
    "\n",
    "\n",
    "    p1 = p1[niter]\n",
    "\n",
    "    !free -m\n",
    "    \n",
    "    \n",
    "    #######################################\n",
    "\n",
    "    bb=p1.bounding_box\n",
    "    #print(bb)\n",
    "\n",
    "    h=1\n",
    "    w=1\n",
    "    if bb:\n",
    "        h=bb[2]-bb[0]\n",
    "        w=bb[3]-bb[1]\n",
    "\n",
    "    tag1='soup'\n",
    "    time_s='time'\n",
    "    time11=niter\n",
    "    pop_s='pop'\n",
    "    population=p1.population ;  population_niter = population\n",
    "    space_s='space'\n",
    "    rule_s='rule'\n",
    "    rulespace='lifelib'\n",
    "\n",
    "    #print(tag1,time_s,time11,pop_s,population,space_s,w2,h2,w,h,rule_s,rulespace,rulestr)\n",
    "\n",
    "    #######################################\n",
    "\n",
    "    p1 = p1[niter]\n",
    "\n",
    "    #######################################\n",
    "\n",
    "    bb=p1.bounding_box\n",
    "    #print(bb)\n",
    "\n",
    "    h=1\n",
    "    w=1\n",
    "    if bb:\n",
    "        h=bb[2]-bb[0]\n",
    "        w=bb[3]-bb[1]\n",
    "\n",
    "\n",
    "    tag1='soup'\n",
    "    time_s='time'\n",
    "    time11=niter*2\n",
    "    pop_s='pop'\n",
    "    population=p1.population ;  population_2niter = population\n",
    "    space_s='space'\n",
    "    rule_s='rule'\n",
    "    rulespace='lifelib'\n",
    "\n",
    "    ratio_s='ratio'\n",
    "    #fPPratio= population_2niter/population_niter\n",
    "    fPPratio= population_2niter/(population_niter+1)\n",
    "    PPratio= '{:.1f}'.format(fPPratio)\n",
    "    #log2PP= '{:.1f}'.format(math.log2(fPPratio) )\n",
    "\n",
    "    #print(tag1,time_s,time11,pop_s,population,ratio_s,PPratio,log2PP,space_s,w2,h2,w,h,rule_s,rulespace,rulestr)\n",
    "    #print(tag1,time_s,time11,pop_s,population,ratio_s,PPratio,space_s,w2,h2,w,h,rule_s,rulespace,rulestr)\n",
    "    print(tag1,time_s,time11,pop_s,population,ratio_s,PPratio,space_s,w2,h2,w,h,rule_s,rulespace,rulestr,rest1)\n",
    "    with open(output_file1,'a') as f1:\n",
    "        #print(tag1,time_s,time11,pop_s,population,ratio_s,PPratio,log2PP,space_s,w2,h2,w,h,rule_s,rulespace,rulestr, file=f1)\n",
    "        print(tag1,time_s,time11,pop_s,population,ratio_s,PPratio,space_s,w2,h2,w,h,rule_s,rulespace,rulestr, file=f1)\n",
    "\n",
    "    \n",
    "    #####################################\n",
    "    del p1\n",
    "    del lt\n",
    "    del sess\n",
    "    !free -m\n",
    "\n",
    "# !free -m\n"
   ]
  },
  {
   "cell_type": "code",
   "execution_count": 25,
   "metadata": {},
   "outputs": [
    {
     "data": {
      "text/plain": [
       "1.624504792712471"
      ]
     },
     "execution_count": 25,
     "metadata": {},
     "output_type": "execute_result"
    }
   ],
   "source": [
    "math.exp(0.7*math.log(2))"
   ]
  },
  {
   "cell_type": "code",
   "execution_count": 1,
   "metadata": {},
   "outputs": [
    {
     "name": "stdout",
     "output_type": "stream",
     "text": [
      "              total        used        free      shared  buff/cache   available\n",
      "Mem:           4429        1138        2659          27         631        3015\n",
      "Swap:           759          26         732\n",
      " 6771 martin    20   0  624712  43524  13632 R  6,7  1,0   0:00.11 python3\n",
      "  680 martin    20   0  618508  43328  13484 S  0,0  1,0   0:00.19 python3\n",
      " 1858 martin    20   0  336356  63064  13640 S  0,0  1,4   1:05.50 jupyter-not+\n",
      "29630 martin    20   0  618376  43104  13432 S  0,0  1,0   0:00.30 python3\n"
     ]
    }
   ],
   "source": [
    "!free -m\n",
    "!top -b -n 1 | grep pyt"
   ]
  },
  {
   "cell_type": "code",
   "execution_count": null,
   "metadata": {},
   "outputs": [],
   "source": []
  },
  {
   "cell_type": "code",
   "execution_count": 35,
   "metadata": {},
   "outputs": [
    {
     "name": "stdout",
     "output_type": "stream",
     "text": [
      "Generating code for rules ['sffdsdfsfd']...\n",
      "error: <class 'ValueError'> Rule \"sffdsdfsfd\" does not belong to any genus\n"
     ]
    }
   ],
   "source": [
    "#\n",
    "import sys\n",
    "\n",
    "try:\n",
    "    sess = lifelib.load_rules('sffdsdfsfd')\n",
    "    #1/0\n",
    "except:\n",
    "    exc_info1=sys.exc_info()\n",
    "    #print(\"Unexpected error:\", exc_info1[0])#, exc_info1[1])\n",
    "    print(\"error:\", exc_info1[0], exc_info1[1])\n",
    "    #raise"
   ]
  },
  {
   "cell_type": "code",
   "execution_count": null,
   "metadata": {},
   "outputs": [],
   "source": []
  }
 ],
 "metadata": {
  "kernelspec": {
   "display_name": "Python 3",
   "language": "python",
   "name": "python3"
  },
  "language_info": {
   "codemirror_mode": {
    "name": "ipython",
    "version": 3
   },
   "file_extension": ".py",
   "mimetype": "text/x-python",
   "name": "python",
   "nbconvert_exporter": "python",
   "pygments_lexer": "ipython3",
   "version": "3.6.9"
  }
 },
 "nbformat": 4,
 "nbformat_minor": 2
}
