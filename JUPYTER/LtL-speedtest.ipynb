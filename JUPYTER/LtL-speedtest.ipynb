{
 "cells": [
  {
   "cell_type": "code",
   "execution_count": null,
   "metadata": {},
   "outputs": [],
   "source": [
    "%matplotlib notebook\n",
    "#%matplotlib inline\n",
    "\n",
    "#https://stackoverflow.com/questions/20961287/what-is-pylab\n",
    "#%pylab\n",
    "##import matplotlib.pylab as p13 \n",
    "##import pylab as p14\n",
    "##from matplotlib.pylab import *\n",
    "from pylab import *\n",
    "import numpy as np\n",
    "\n",
    "\n",
    "#parameters are described at  https://github.com/martin12333/PyMartinCA/blob/master/PARAMETERS.txt\n",
    "\n",
    "r=2\n",
    "\n",
    "bmin=7\n",
    "smin=7\n",
    "\n",
    "xlo=7; dx52=6;  ylo=9; dy52=3\n",
    "\n",
    "#\n",
    "\n",
    "xhi=xlo+dx52\n",
    "yhi=ylo + dy52\n",
    "\n",
    "#=============================\n",
    "\n",
    "w=1000 #1850 #2000 #2250 #1800\n",
    "h=1000 #950 #1300 #1400 #950\n",
    "\n",
    "#\n",
    "####################\n",
    "##np.random.seed()      \n",
    "\n",
    "p=0.5 #0.25 #0.16\n",
    "a = (rand( h, w )<p) \n",
    "\n",
    "#=============================\n",
    "\n",
    "###x11 = floor(linspace(xlo, xhi + 0.999, w))\n",
    "###y11 = floor(linspace(yhi + 0.999 , ylo, h))\n",
    "x11 = (linspace(xlo, xhi , w))\n",
    "y11 = (linspace(yhi  , ylo, h))\n",
    "xx, yy = meshgrid(x11, y11)\n",
    " \n",
    "bmax=xx\n",
    "smax=yy\n",
    "\n",
    "#\n",
    "\n",
    "niter = 100 #400 #200 #1000 #3000   \n",
    "sleep1=    0 #0.3      #0.1 #0 #0.01\n",
    "step1=12 #4 #20 #8 #15 #5 #1 #37 #2\n",
    "step2=60 #120 #1\n",
    "\n",
    "bfade = False#True  # False\n",
    "q = 0.1#0.9 #0.8#0.7 #0.3 #0.1 \n",
    "###qqq=0.2 ###0 #0.5 #1#2 #4 #8 #1.8\n",
    "#q2=0.7\n",
    "#\n",
    "\n",
    "afade = 0.1 * a\n",
    "averyold = a \n",
    "\n",
    "diam = 2*r + 1\n"
   ]
  },
  {
   "cell_type": "code",
   "execution_count": null,
   "metadata": {
    "scrolled": true
   },
   "outputs": [],
   "source": [
    "%%time\n",
    "\n",
    "from scipy.ndimage import filters\n",
    "import time\n",
    "\n",
    "import matplotlib.pyplot as plt\n",
    "\n",
    "\n",
    "#plt.ion()\n",
    "\n",
    "\n",
    "#img_plot = plt.imshow(a)\n",
    "\n",
    "\n",
    "#plt.show(block=False)\n",
    "\n",
    "\n",
    "\n",
    "\n",
    "OR = logical_or\n",
    "AND = logical_and\n",
    "\n",
    "for i in range(niter):\n",
    "\n",
    "    n41 =   diam*diam*filters.uniform_filter(0.0+a,diam )   ##,mode='wrap')  )  \n",
    "    n=n41.round()   \n",
    "    birth = AND(  n>=bmin,  AND( n<=bmax, logical_not(a) )  )\n",
    "    survi = AND(  n>=smin,  AND( n<=smax, a )  )\n",
    "    a =  OR( birth , survi )  \n",
    "    if (i % step1)==0:\n",
    "\n",
    "        \n",
    "        ###########################################\n",
    "        \n",
    "        \n",
    "        if bfade:\n",
    "            ###asho = np.maximum( a , qqq*afade )\n",
    "            ##asho = np.maximum( 1 , q2*afade/q )\n",
    "            #asho = np.minimum( 1 , q2*afade/q )\n",
    "            asho = np.minimum( 1 , afade/q )\n",
    "            afade = q*a + (1-q)*afade\n",
    "            ####asho=afade\n",
    "        else:\n",
    "            asho=0+a\n",
    "            \n",
    "\n",
    "        ###########################################\n",
    "\n",
    "            \n",
    "        ada51= logical_xor(a, averyold)  \n",
    "        averyold =a \n",
    "        \n",
    "        #adaimage = transpose( ( ( asho)))\n",
    "        #b = array(255*clip(adaimage,0,1),'B')\n",
    "\n",
    "        #img_plot.set_data(asho)\n",
    "        ###imshow(asho)\n",
    "        ##show()\n",
    "        #plt.draw()\n",
    "\n",
    "\n",
    "        #time.sleep(sleep1)\n",
    "\n",
    "        if (i % step2)==0:\n",
    "            am51=(0.0+a).mean()\n",
    "            sam51='{:.3f}'.format(am51)\n",
    "            dam51=ada51.mean()\n",
    "            sdam51='{:.3f}'.format(dam51)\n",
    "            print( i, sam51, sdam51)\n",
    "\n",
    "###########################################\n",
    "\n",
    "            \n",
    "#plt.figure(figsize = (11,5.5))\n",
    " \n",
    "img_plot = plt.imshow(asho)\n"
   ]
  },
  {
   "cell_type": "code",
   "execution_count": null,
   "metadata": {},
   "outputs": [],
   "source": []
  },
  {
   "cell_type": "code",
   "execution_count": null,
   "metadata": {},
   "outputs": [],
   "source": []
  },
  {
   "cell_type": "code",
   "execution_count": null,
   "metadata": {},
   "outputs": [],
   "source": []
  },
  {
   "cell_type": "code",
   "execution_count": null,
   "metadata": {},
   "outputs": [],
   "source": [
    "*int*?"
   ]
  },
  {
   "cell_type": "code",
   "execution_count": null,
   "metadata": {},
   "outputs": [],
   "source": [
    "int*?"
   ]
  },
  {
   "cell_type": "code",
   "execution_count": null,
   "metadata": {},
   "outputs": [],
   "source": []
  },
  {
   "cell_type": "code",
   "execution_count": null,
   "metadata": {},
   "outputs": [],
   "source": [
    "%config"
   ]
  },
  {
   "cell_type": "code",
   "execution_count": null,
   "metadata": {},
   "outputs": [],
   "source": [
    "%config InlineBackend.rc"
   ]
  },
  {
   "cell_type": "code",
   "execution_count": null,
   "metadata": {},
   "outputs": [],
   "source": [
    "%config InlineBackend"
   ]
  },
  {
   "cell_type": "code",
   "execution_count": null,
   "metadata": {},
   "outputs": [],
   "source": [
    "%config DisplayFormatter"
   ]
  },
  {
   "cell_type": "code",
   "execution_count": null,
   "metadata": {},
   "outputs": [],
   "source": []
  },
  {
   "cell_type": "code",
   "execution_count": null,
   "metadata": {},
   "outputs": [],
   "source": []
  },
  {
   "cell_type": "code",
   "execution_count": null,
   "metadata": {},
   "outputs": [],
   "source": []
  },
  {
   "cell_type": "code",
   "execution_count": null,
   "metadata": {},
   "outputs": [],
   "source": []
  },
  {
   "cell_type": "code",
   "execution_count": null,
   "metadata": {},
   "outputs": [],
   "source": []
  },
  {
   "cell_type": "code",
   "execution_count": null,
   "metadata": {},
   "outputs": [],
   "source": []
  },
  {
   "cell_type": "code",
   "execution_count": null,
   "metadata": {
    "scrolled": false
   },
   "outputs": [],
   "source": [
    "\n"
   ]
  },
  {
   "cell_type": "code",
   "execution_count": null,
   "metadata": {},
   "outputs": [],
   "source": []
  }
 ],
 "metadata": {
  "kernelspec": {
   "display_name": "Python 3",
   "language": "python",
   "name": "python3"
  },
  "language_info": {
   "codemirror_mode": {
    "name": "ipython",
    "version": 3
   },
   "file_extension": ".py",
   "mimetype": "text/x-python",
   "name": "python",
   "nbconvert_exporter": "python",
   "pygments_lexer": "ipython3",
   "version": "3.6.9"
  }
 },
 "nbformat": 4,
 "nbformat_minor": 2
}
