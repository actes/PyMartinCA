{
 "cells": [
  {
   "cell_type": "code",
   "execution_count": null,
   "metadata": {},
   "outputs": [],
   "source": [
    "todooooooooooo\n",
    "\n",
    "################ tunable parameters\n",
    "\n",
    "\n",
    "#######input_file1='default.rules.csv'\n",
    "output_file1='cube-append-1.rules.csv'\n",
    "\n",
    "\n",
    "\n",
    "#####r=1\n",
    "r=2\n",
    "\n",
    "bmin0=7; bmax0=11; smin0=7; smax0=10\n",
    "#bmin0=7; bmax0=8; smin0=6; smax0=10\n",
    "#bmin0=7; bmax0=9; smin0=7; smax0=10\n",
    "#bmin0=6; bmax0=6; smin0=6; smax0=6\n",
    "#bmin0=5; bmax0=6; smin0=5; smax0=6\n",
    "#bmin0=4; bmax0=5; smin0=4; smax0=5\n",
    "\n",
    "ndbs=1\n",
    "ndbmin=1; ndbmax=1; ndsmin=1; ndsmax=1\n",
    "#ndbmin=3; ndbmax=1; ndsmin=3; ndsmax=1\n",
    "#ndbmin=2; ndbmax=3; ndsmin=2; ndsmax=3\n",
    "#ndbmin=3; ndbmax=3; ndsmin=3; ndsmax=3\n",
    "#ndbmin=3; ndbmax=4; ndsmin=3; ndsmax=4\n",
    "#ndbmin=2; ndbmax=6; ndsmin=2; ndsmax=5\n",
    "#ndbmin=3; ndbmax=6; ndsmin=3; ndsmax=5\n",
    "#ndbmin=5; ndbmax=8; ndsmin=5; ndsmax=8\n"
   ]
  },
  {
   "cell_type": "code",
   "execution_count": null,
   "metadata": {},
   "outputs": [],
   "source": [
    "################ tunable parameters\n",
    "\n",
    "\n",
    "r=3\n",
    "\n",
    "bmin0=14; bmax0=18; smin0=12; smax0=20\n",
    "bmin0=12; bmax0=14; smin0=12; smax0=18\n",
    "bmin0=12; bmax0=14; smin0=12; smax0=19\n",
    "bmin0=12; bmax0=15; smin0=12; smax0=19\n",
    "#bmin0=14; bmax0=20; smin0=13; smax0=22\n",
    "#bmin0=14; bmax0=20; smin0=12; smax0=21\n",
    "#bmin0=15; bmax0=21; smin0=11; smax0=23\n",
    "#bmin0=14; bmax0=18; smin0=14; smax0=23\n",
    "\n",
    "#r3b12t14s12t19\t\t1\n",
    "#r3b12t16s12t18\t\t1\n",
    "\n",
    "ndbs=3#2#1\n",
    "ndbmin=3; ndbmax=3; ndsmin=3; ndsmax=3\n",
    "\n"
   ]
  }
 ],
 "metadata": {
  "kernelspec": {
   "display_name": "Python 3",
   "language": "python",
   "name": "python3"
  },
  "language_info": {
   "codemirror_mode": {
    "name": "ipython",
    "version": 3
   },
   "file_extension": ".py",
   "mimetype": "text/x-python",
   "name": "python",
   "nbconvert_exporter": "python",
   "pygments_lexer": "ipython3",
   "version": "3.6.9"
  }
 },
 "nbformat": 4,
 "nbformat_minor": 2
}
