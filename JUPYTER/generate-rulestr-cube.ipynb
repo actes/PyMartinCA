{
 "cells": [
  {
   "cell_type": "code",
   "execution_count": 6,
   "metadata": {},
   "outputs": [],
   "source": [
    "\n",
    "\n",
    "################ tunable parameters\n",
    "\n",
    "\n",
    "output_file1='input-ltl-r2-12.rules.csv'\n",
    "output_file1='input-ltl-r2-18.rules.csv'\n",
    "# output_file1='input-kjfhkjdshgkdjhgdkgjh.rules.csv'\n",
    "\n",
    "\n",
    "\n",
    "r=2\n",
    "\n",
    "bmin0=7; bmax0=7; smin0=7; smax0=10\n",
    "bmin0=7; bmax0=7; smin0=7; smax0=9\n",
    "# bmin0=7; bmax0=11; smin0=7; smax0=10\n",
    "#bmin0=7; bmax0=8; smin0=6; smax0=10\n",
    "#bmin0=7; bmax0=9; smin0=7; smax0=10\n",
    "#bmin0=6; bmax0=6; smin0=6; smax0=6\n",
    "#bmin0=5; bmax0=6; smin0=5; smax0=6\n",
    "#bmin0=4; bmax0=5; smin0=4; smax0=5\n",
    "\n",
    "# ndbs=1\n",
    "ndbmin=1; ndbmax=6; ndsmin=1; ndsmax=2\n",
    "ndbmin=1; ndbmax=6; ndsmin=1; ndsmax=3\n",
    "# ndbmin=1; ndbmax=1; ndsmin=1; ndsmax=1\n",
    "#ndbmin=3; ndbmax=1; ndsmin=3; ndsmax=1\n",
    "#ndbmin=2; ndbmax=3; ndsmin=2; ndsmax=3\n",
    "#ndbmin=3; ndbmax=3; ndsmin=3; ndsmax=3\n",
    "#ndbmin=3; ndbmax=4; ndsmin=3; ndsmax=4\n",
    "#ndbmin=2; ndbmax=6; ndsmin=2; ndsmax=5\n",
    "#ndbmin=3; ndbmax=6; ndsmin=3; ndsmax=5\n",
    "#ndbmin=5; ndbmax=8; ndsmin=5; ndsmax=8\n"
   ]
  },
  {
   "cell_type": "code",
   "execution_count": 7,
   "metadata": {},
   "outputs": [
    {
     "name": "stdout",
     "output_type": "stream",
     "text": [
      "rule lifelib r3b14t17s14t22\n",
      "rule lifelib r3b14t17s14t23\n",
      "rule lifelib r3b14t17s14t24\n",
      "rule lifelib r3b14t18s14t22\n",
      "rule lifelib r3b14t18s14t23\n",
      "rule lifelib r3b14t18s14t24\n",
      "rule lifelib r3b14t19s14t22\n",
      "rule lifelib r3b14t19s14t23\n",
      "rule lifelib r3b14t19s14t24\n",
      "rule lifelib b3s23\n"
     ]
    }
   ],
   "source": [
    "##for dbs in range(-ndbs,ndbs+1):\n",
    "##for dbs in range(-1,2):\n",
    "\n",
    "for dbmin in range(ndbmin):\n",
    "\n",
    "    bmin=bmin0+dbmin\n",
    "\n",
    "    for dbmax in range(ndbmax):\n",
    "\n",
    "        bmax=bmax0+dbmax\n",
    "\n",
    "        for dsmin in range(ndsmin):\n",
    "\n",
    "            smin=smin0+dsmin\n",
    "\n",
    "            for dsmax in range(ndsmax):\n",
    "\n",
    "                smax=smax0+dsmax\n",
    "\n",
    "                ###########\n",
    "                \n",
    "\n",
    "                rulestr='r{}b{}t{}s{}t{}'.format(r,bmin,bmax,smin,smax)\n",
    "    \n",
    "                rule_s='rule'\n",
    "                rulespace='lifelib'\n",
    "  \n",
    "                print(rule_s,rulespace,rulestr)\n",
    "                with open(output_file1,'a') as f1:\n",
    "                    print(rule_s,rulespace,rulestr, file=f1)\n",
    "\n",
    "rulestr='b3s23'\n",
    "\n",
    "print(rule_s,rulespace,rulestr)\n",
    "with open(output_file1,'a') as f1:\n",
    "    print(rule_s,rulespace,rulestr, file=f1)\n"
   ]
  },
  {
   "cell_type": "code",
   "execution_count": 6,
   "metadata": {},
   "outputs": [],
   "source": [
    "################ tunable parameters\n",
    "\n",
    "output_file1='input-ltl-r3-03.rules.csv'\n",
    "# output_file1='input-kjfhkjdshgkdjhgdkgjh.rules.csv'\n",
    "\n",
    "\n",
    "r=3\n",
    "\n",
    "bmin0=14; bmax0=18; smin0=12; smax0=20\n",
    "bmin0=12; bmax0=14; smin0=12; smax0=18\n",
    "bmin0=12; bmax0=14; smin0=12; smax0=19\n",
    "bmin0=12; bmax0=15; smin0=12; smax0=19\n",
    "bmin0=12; bmax0=16; smin0=12; smax0=18\n",
    "#bmin0=14; bmax0=20; smin0=13; smax0=22\n",
    "#bmin0=14; bmax0=20; smin0=12; smax0=21\n",
    "#bmin0=15; bmax0=21; smin0=11; smax0=23\n",
    "bmin0=13; bmax0=18; smin0=13; smax0=23\n",
    "bmin0=14; bmax0=17; smin0=14; smax0=22\n",
    "\n",
    "#r3b12t14s12t19\t\t1\n",
    "#kjgfdlkfdjgdr3b12t16s12t18\t\t1\n",
    "\n",
    "##ndbs=3#2#1\n",
    "ndbmin=3; ndbmax=1; ndsmin=3; ndsmax=1\n",
    "ndbmin=1; ndbmax=3; ndsmin=1; ndsmax=3\n",
    "\n"
   ]
  },
  {
   "cell_type": "code",
   "execution_count": null,
   "metadata": {},
   "outputs": [],
   "source": []
  }
 ],
 "metadata": {
  "kernelspec": {
   "display_name": "Python 3",
   "language": "python",
   "name": "python3"
  },
  "language_info": {
   "codemirror_mode": {
    "name": "ipython",
    "version": 3
   },
   "file_extension": ".py",
   "mimetype": "text/x-python",
   "name": "python",
   "nbconvert_exporter": "python",
   "pygments_lexer": "ipython3",
   "version": "3.6.9"
  }
 },
 "nbformat": 4,
 "nbformat_minor": 2
}
