{
 "cells": [
  {
   "cell_type": "code",
   "execution_count": 12,
   "metadata": {},
   "outputs": [
    {
     "name": "stdout",
     "output_type": "stream",
     "text": [
      "rule lifelib b378s01356 #Long-lived, but still stable\n",
      "rule lifelib b368s12578 #Marginally explosive; contains a linear replicator\n",
      "rule lifelib b3-q4z5ys234k5j #Quickly settles, but explodes if there is a quadratic replicator\n",
      "rule lifelib b01346s023 #Has approximately 0.0343 linear growth patterns per soup\n",
      "rule lifelib b34a6ns2aek3-a4a #A rare example of an apgsearchable rule with a (relatively common) zz_QUADRATIC; also has a common gun\n",
      "rule lifelib b357s1358 #Explodes at very large soup sizes, but smaller soups always die down\n",
      "rule lifelib b3aeijs01c2n3ack4q5a6e #Has a common O(sqrt(t)) growth pattern\n"
     ]
    }
   ],
   "source": [
    "#from column 0\n",
    "\n",
    "input1='''\n",
    "b378s01356 #Long-lived, but still stable\n",
    "b368s12578 #Marginally explosive; contains a linear replicator\n",
    "b3-q4z5ys234k5j #Quickly settles, but explodes if there is a quadratic replicator\n",
    "b01346s023 #Has approximately 0.0343 linear growth patterns per soup\n",
    "b34a6ns2aek3-a4a #A rare example of an apgsearchable rule with a (relatively common) zz_QUADRATIC; also has a common gun\n",
    "b357s1358 #Explodes at very large soup sizes, but smaller soups always die down\n",
    "b3aeijs01c2n3ack4q5a6e #Has a common O(sqrt(t)) growth pattern\n",
    "'''\n",
    "\n",
    "#with open(input_file1) as f0:\n",
    "#    input1=f0.read()\n",
    "\n",
    "sp0=input1.splitlines()\n",
    "\n",
    "\n",
    "for sp01 in sp0:\n",
    "    if sp01:\n",
    "        sp5=sp01.split()\n",
    "        #print(sp5)\n",
    "        i5=-1 #sp5.index('lifelib')\n",
    "        rulestr=sp5[i5+1]\n",
    "    \n",
    "        rule_s='rule'\n",
    "        rulespace='lifelib'\n",
    "\n",
    "        space1=' '\n",
    "        rest1=space1.join(sp5[1:])\n",
    "\n",
    "#         print(rule_s,rulespace,rulestr,'#', sp5[1:])\n",
    "        print(rule_s,rulespace,rulestr, rest1)\n",
    "\n",
    "\n"
   ]
  },
  {
   "cell_type": "code",
   "execution_count": null,
   "metadata": {
    "collapsed": true
   },
   "outputs": [],
   "source": [
    "#from gdocs.tsv.ssv  column 1 2 3 4"
   ]
  }
 ],
 "metadata": {
  "kernelspec": {
   "display_name": "Python 3",
   "language": "python",
   "name": "python3"
  },
  "language_info": {
   "codemirror_mode": {
    "name": "ipython",
    "version": 3
   },
   "file_extension": ".py",
   "mimetype": "text/x-python",
   "name": "python",
   "nbconvert_exporter": "python",
   "pygments_lexer": "ipython3",
   "version": "3.6.9"
  }
 },
 "nbformat": 4,
 "nbformat_minor": 2
}
