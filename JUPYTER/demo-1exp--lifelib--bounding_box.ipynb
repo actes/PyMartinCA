{
 "cells": [
  {
   "cell_type": "code",
   "execution_count": 27,
   "metadata": {},
   "outputs": [
    {
     "name": "stdout",
     "output_type": "stream",
     "text": [
      "tag1 time_s time11 pop_s population space_s w2 h2 w h rule_s rulespace rulestr\n",
      "[0, 0, 50, 50]\n",
      "[-360, -394, 813, 1300]\n",
      "soup time 4800 pop 650403 ratio 4.0 2.0 space 50 50 3664 2382 rule lifelib r2b7t12s7t10\n"
     ]
    }
   ],
   "source": [
    "from __future__ import print_function\n",
    "import lifelib\n",
    "import math\n",
    "\n",
    "################ tunable parameters\n",
    "\n",
    "output_file1='1.rules.csv'\n",
    "\n",
    "#rulestr='b3s23'\n",
    "rulestr='r2b7t9s7t10'\n",
    "rulestr='r2b7t12s7t10' \n",
    "\n",
    "w2=50#1000#100#1000#256#128#16#25\n",
    "h2=w2#32#16\n",
    "niter=300#2000#6#2000#1000#500#10000#5000#800 #2400 #1500\n",
    "\n",
    "###########################\n",
    "\n",
    "\n",
    "schema1='tag1,time_s,time11,pop_s,population,ratio_s,PPratio,log2PP,space_s,w2,h2,w,h,rule_s,rulespace,rulestr'\n",
    "print(schema1.replace(',',' '))\n",
    "\n",
    "\n",
    "\n",
    "sess = lifelib.load_rules(rulestr)\n",
    "\n",
    "lt = sess.lifetree()\n",
    "\n",
    "\n",
    "p1=lt.pattern()\n",
    "p=0.5 #0.3\n",
    "p1[0:h2, 0:w2] = p\n",
    "\n",
    "bb=p1.bounding_box\n",
    "print(bb)\n",
    "\n",
    "#######################################\n",
    "\n",
    "p1 = p1[niter]\n",
    "\n",
    "#######################################\n",
    "\n",
    "bb=p1.bounding_box\n",
    "print(bb)\n",
    "\n",
    "h=1\n",
    "w=1\n",
    "if bb:\n",
    "    h=bb[2]-bb[0]\n",
    "    w=bb[3]-bb[1]\n",
    "\n",
    "tag1='soup'\n",
    "time_s='time'\n",
    "time11=niter\n",
    "pop_s='pop'\n",
    "population=p1.population ;  population_niter = population\n",
    "space_s='space'\n",
    "rule_s='rule'\n",
    "rulespace='lifelib'\n",
    "\n",
    "#print(tag1,time_s,time11,pop_s,population,space_s,w2,h2,w,h,rule_s,rulespace,rulestr)\n",
    "\n",
    "#######################################\n",
    "\n",
    "p1 = p1[niter]\n",
    "\n",
    "#######################################\n",
    "\n",
    "bb=p1.bounding_box\n",
    "#print(bb)\n",
    "\n",
    "h=1\n",
    "w=1\n",
    "if bb:\n",
    "    h=bb[2]-bb[0]\n",
    "    w=bb[3]-bb[1]\n",
    "\n",
    "\n",
    "tag1='soup'\n",
    "time_s='time'\n",
    "time11=niter*2\n",
    "pop_s='pop'\n",
    "population=p1.population ;  population_2niter = population\n",
    "space_s='space'\n",
    "rule_s='rule'\n",
    "rulespace='lifelib'\n",
    "\n",
    "ratio_s='ratio'\n",
    "fPPratio= population_2niter/population_niter\n",
    "PPratio= '{:.1f}'.format(fPPratio)\n",
    "log2PP= '{:.1f}'.format(math.log2(fPPratio) )\n",
    "\n",
    "print(tag1,time_s,time11,pop_s,population,ratio_s,PPratio,log2PP,space_s,w2,h2,w,h,rule_s,rulespace,rulestr)\n",
    "with open(output_file1,'a') as f1:\n",
    "    print(tag1,time_s,time11,pop_s,population,ratio_s,PPratio,log2PP,space_s,w2,h2,w,h,rule_s,rulespace,rulestr, file=f1)\n",
    "    \n"
   ]
  },
  {
   "cell_type": "code",
   "execution_count": 23,
   "metadata": {},
   "outputs": [
    {
     "name": "stdout",
     "output_type": "stream",
     "text": [
      "Logging hadn't been started.\n",
      "Logging has not been activated.\n"
     ]
    }
   ],
   "source": [
    "#%logstop\n",
    "####%logstart -o\n",
    "%logstate"
   ]
  },
  {
   "cell_type": "code",
   "execution_count": 1,
   "metadata": {},
   "outputs": [
    {
     "name": "stdout",
     "output_type": "stream",
     "text": [
      "              total        used        free      shared  buff/cache   available\n",
      "Mem:           4429        1464        2515          27         449        2702\n",
      "Swap:           759          15         744\n",
      " 1858 martin    20   0  338632  64864  13640 S  0,0  1,4   0:48.62 jupyter-not+\n",
      " 3455 martin    20   0  618120  42152  12632 S  0,0  0,9   0:00.27 python3\n",
      " 9976 martin    20   0 1047532 322704  24092 S  0,0  7,1   0:02.92 python3\n",
      "14784 martin    20   0   52672  12144   6608 S  0,0  0,3   0:00.00 python3\n",
      "14789 martin    20   0   52672  12020   6484 S  0,0  0,3   0:00.00 python3\n",
      "14794 martin    20   0   52672  12020   6484 S  0,0  0,3   0:00.00 python3\n",
      "14807 martin    20   0   52672  12140   6608 S  0,0  0,3   0:00.00 python3\n",
      "14812 martin    20   0   52672  12144   6608 S  0,0  0,3   0:00.01 python3\n",
      "14817 martin    20   0   52672  12144   6608 S  0,0  0,3   0:00.00 python3\n",
      "14824 martin    20   0   52672  12020   6484 S  0,0  0,3   0:00.03 python3\n",
      "14829 martin    20   0   52672  12144   6608 S  0,0  0,3   0:00.02 python3\n",
      "14834 martin    20   0   52672  12020   6484 S  0,0  0,3   0:00.03 python3\n",
      "19586 martin    20   0  624712  43524  13628 S  0,0  1,0   0:00.33 python3\n"
     ]
    }
   ],
   "source": [
    "!free -m\n",
    "!top -b -n 1 | grep pyt"
   ]
  },
  {
   "cell_type": "code",
   "execution_count": null,
   "metadata": {},
   "outputs": [],
   "source": []
  }
 ],
 "metadata": {
  "kernelspec": {
   "display_name": "Python 3",
   "language": "python",
   "name": "python3"
  },
  "language_info": {
   "codemirror_mode": {
    "name": "ipython",
    "version": 3
   },
   "file_extension": ".py",
   "mimetype": "text/x-python",
   "name": "python",
   "nbconvert_exporter": "python",
   "pygments_lexer": "ipython3",
   "version": "3.6.9"
  }
 },
 "nbformat": 4,
 "nbformat_minor": 2
}
