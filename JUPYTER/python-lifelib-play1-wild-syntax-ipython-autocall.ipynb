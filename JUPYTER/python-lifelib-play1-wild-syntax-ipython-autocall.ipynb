{
 "cells": [
  {
   "cell_type": "code",
   "execution_count": 2,
   "metadata": {},
   "outputs": [],
   "source": [
    "import lifelib"
   ]
  },
  {
   "cell_type": "code",
   "execution_count": 4,
   "metadata": {},
   "outputs": [
    {
     "name": "stdout",
     "output_type": "stream",
     "text": [
      "Automatic calling is: Full\n"
     ]
    }
   ],
   "source": [
    "%autocall 2"
   ]
  },
  {
   "cell_type": "code",
   "execution_count": 3,
   "metadata": {},
   "outputs": [
    {
     "name": "stdout",
     "output_type": "stream",
     "text": [
      "Help on package lifelib:\n",
      "\n",
      "NAME\n",
      "    lifelib\n",
      "\n",
      "PACKAGE CONTENTS\n",
      "    _version\n",
      "    autocompile\n",
      "    cgold (package)\n",
      "    genera (package)\n",
      "    pythlib (package)\n",
      "    tests (package)\n",
      "\n",
      "SUBMODULES\n",
      "    registry\n",
      "\n",
      "DATA\n",
      "    apilines = '    void* CreateLifetree(int maxmem, int nlayers...  bool ...\n",
      "    lifelib_dir = '/home/martin/.local/lib/python3.6/site-packages/lifelib...\n",
      "\n",
      "VERSION\n",
      "    2.3.0\n",
      "\n",
      "FILE\n",
      "    /home/martin/.local/lib/python3.6/site-packages/lifelib/__init__.py\n",
      "\n",
      "\n"
     ]
    }
   ],
   "source": [
    "help(lifelib)"
   ]
  },
  {
   "cell_type": "code",
   "execution_count": 12,
   "metadata": {},
   "outputs": [
    {
     "name": "stdout",
     "output_type": "stream",
     "text": [
      "------> print(print(), print)\n",
      "\n",
      "None <built-in function print>\n"
     ]
    }
   ],
   "source": [
    "print print(), print"
   ]
  },
  {
   "cell_type": "code",
   "execution_count": 8,
   "metadata": {},
   "outputs": [
    {
     "name": "stdout",
     "output_type": "stream",
     "text": [
      "------> dir(dir, dir)\n"
     ]
    },
    {
     "ename": "TypeError",
     "evalue": "dir expected at most 1 arguments, got 2",
     "output_type": "error",
     "traceback": [
      "\u001b[0;31m---------------------------------------------------------------------------\u001b[0m",
      "\u001b[0;31mTypeError\u001b[0m                                 Traceback (most recent call last)",
      "\u001b[0;32m<ipython-input-8-7844c1bccf3e>\u001b[0m in \u001b[0;36m<module>\u001b[0;34m()\u001b[0m\n\u001b[0;32m----> 1\u001b[0;31m \u001b[0mdir\u001b[0m\u001b[0;34m(\u001b[0m\u001b[0mdir\u001b[0m\u001b[0;34m,\u001b[0m \u001b[0mdir\u001b[0m\u001b[0;34m)\u001b[0m\u001b[0;34m\u001b[0m\u001b[0;34m\u001b[0m\u001b[0m\n\u001b[0m",
      "\u001b[0;31mTypeError\u001b[0m: dir expected at most 1 arguments, got 2"
     ]
    }
   ],
   "source": [
    "dir dir, dir"
   ]
  },
  {
   "cell_type": "code",
   "execution_count": 9,
   "metadata": {
    "collapsed": true
   },
   "outputs": [
    {
     "data": {
      "text/plain": [
       "['__builtins__',\n",
       " '__cached__',\n",
       " '__doc__',\n",
       " '__file__',\n",
       " '__loader__',\n",
       " '__name__',\n",
       " '__package__',\n",
       " '__path__',\n",
       " '__spec__',\n",
       " '__version__',\n",
       " '_version',\n",
       " 'add_cygdir',\n",
       " 'apilines',\n",
       " 'autocompile',\n",
       " 'compile_rules',\n",
       " 'genera',\n",
       " 'install_cygwin',\n",
       " 'lifelib_dir',\n",
       " 'load_rules',\n",
       " 'pythlib',\n",
       " 'registry',\n",
       " 'reset_tree',\n",
       " 'run_tests',\n",
       " 'sanirule',\n",
       " 'set_rules']"
      ]
     },
     "execution_count": 9,
     "metadata": {},
     "output_type": "execute_result"
    }
   ],
   "source": [
    "dir(lifelib)"
   ]
  },
  {
   "cell_type": "code",
   "execution_count": 10,
   "metadata": {
    "collapsed": true
   },
   "outputs": [
    {
     "ename": "TypeError",
     "evalue": "'module' object is not iterable",
     "output_type": "error",
     "traceback": [
      "\u001b[0;31m---------------------------------------------------------------------------\u001b[0m",
      "\u001b[0;31mTypeError\u001b[0m                                 Traceback (most recent call last)",
      "\u001b[0;32m<ipython-input-10-ff2df39221c0>\u001b[0m in \u001b[0;36m<module>\u001b[0;34m()\u001b[0m\n\u001b[0;32m----> 1\u001b[0;31m \u001b[0mdict\u001b[0m\u001b[0;34m(\u001b[0m\u001b[0mlifelib\u001b[0m\u001b[0;34m)\u001b[0m\u001b[0;34m\u001b[0m\u001b[0;34m\u001b[0m\u001b[0m\n\u001b[0m",
      "\u001b[0;31mTypeError\u001b[0m: 'module' object is not iterable"
     ]
    }
   ],
   "source": [
    "###dict(lifelib)"
   ]
  },
  {
   "cell_type": "code",
   "execution_count": 19,
   "metadata": {},
   "outputs": [],
   "source": [
    "??lifelib.load_rules"
   ]
  },
  {
   "cell_type": "code",
   "execution_count": 57,
   "metadata": {},
   "outputs": [],
   "source": [
    "sess = lifelib.load_rules('r2b7t9s7t10')\n",
    "#sess = lifelib.load_rules('r2b7t9s7t10',  \"r2b7t10s7t12\" )"
   ]
  },
  {
   "cell_type": "code",
   "execution_count": 8,
   "metadata": {
    "collapsed": true
   },
   "outputs": [
    {
     "data": {
      "text/plain": [
       "['__class__',\n",
       " '__delattr__',\n",
       " '__dict__',\n",
       " '__dir__',\n",
       " '__doc__',\n",
       " '__eq__',\n",
       " '__format__',\n",
       " '__ge__',\n",
       " '__getattribute__',\n",
       " '__gt__',\n",
       " '__hash__',\n",
       " '__init__',\n",
       " '__init_subclass__',\n",
       " '__le__',\n",
       " '__lt__',\n",
       " '__module__',\n",
       " '__ne__',\n",
       " '__new__',\n",
       " '__reduce__',\n",
       " '__reduce_ex__',\n",
       " '__repr__',\n",
       " '__setattr__',\n",
       " '__sizeof__',\n",
       " '__str__',\n",
       " '__subclasshook__',\n",
       " '__weakref__',\n",
       " 'default_planes',\n",
       " 'lifelib',\n",
       " 'lifetree',\n",
       " 'lifetree_ptrs',\n",
       " 'newfloat',\n",
       " 'pattern_ptrs',\n",
       " 'rules',\n",
       " 'verify_rule']"
      ]
     },
     "execution_count": 8,
     "metadata": {},
     "output_type": "execute_result"
    }
   ],
   "source": [
    "dir(sess)"
   ]
  },
  {
   "cell_type": "code",
   "execution_count": 11,
   "metadata": {
    "collapsed": true
   },
   "outputs": [
    {
     "ename": "TypeError",
     "evalue": "'Session' object is not iterable",
     "output_type": "error",
     "traceback": [
      "\u001b[0;31m---------------------------------------------------------------------------\u001b[0m",
      "\u001b[0;31mTypeError\u001b[0m                                 Traceback (most recent call last)",
      "\u001b[0;32m<ipython-input-11-f7a058dc42d5>\u001b[0m in \u001b[0;36m<module>\u001b[0;34m()\u001b[0m\n\u001b[0;32m----> 1\u001b[0;31m \u001b[0mdict\u001b[0m\u001b[0;34m(\u001b[0m\u001b[0msess\u001b[0m\u001b[0;34m)\u001b[0m\u001b[0;34m\u001b[0m\u001b[0;34m\u001b[0m\u001b[0m\n\u001b[0m",
      "\u001b[0;31mTypeError\u001b[0m: 'Session' object is not iterable"
     ]
    }
   ],
   "source": [
    "####dict(sess)"
   ]
  },
  {
   "cell_type": "code",
   "execution_count": 58,
   "metadata": {},
   "outputs": [
    {
     "data": {
      "text/plain": [
       "{'default_planes': 4,\n",
       " 'lifelib': <lifelib.pythlib.lowlevel.WrappedLibrary at 0x7fdf1c0919e8>,\n",
       " 'lifetree_ptrs': set(),\n",
       " 'pattern_ptrs': set(),\n",
       " 'rules': ['r2b7t9s7t10']}"
      ]
     },
     "execution_count": 58,
     "metadata": {},
     "output_type": "execute_result"
    }
   ],
   "source": [
    "sess.__dict__"
   ]
  },
  {
   "cell_type": "code",
   "execution_count": 18,
   "metadata": {},
   "outputs": [],
   "source": [
    "??sess.lifetree\n"
   ]
  },
  {
   "cell_type": "code",
   "execution_count": null,
   "metadata": {},
   "outputs": [],
   "source": []
  },
  {
   "cell_type": "code",
   "execution_count": 59,
   "metadata": {},
   "outputs": [],
   "source": [
    "lt = sess.lifetree()"
   ]
  },
  {
   "cell_type": "code",
   "execution_count": 53,
   "metadata": {},
   "outputs": [
    {
     "data": {
      "text/plain": [
       "{'lifelib': <lifelib.pythlib.lowlevel.WrappedLibrary at 0x7fdf1c0919b0>,\n",
       " 'n_layers': 4,\n",
       " 'ptr': (27255856,),\n",
       " 'session': <lifelib.pythlib.session.Session at 0x7fdf1c0914e0>}"
      ]
     },
     "execution_count": 53,
     "metadata": {},
     "output_type": "execute_result"
    }
   ],
   "source": [
    "lt.__dict__"
   ]
  },
  {
   "cell_type": "code",
   "execution_count": 38,
   "metadata": {
    "collapsed": true
   },
   "outputs": [
    {
     "data": {
      "text/plain": [
       "['__class__',\n",
       " '__del__',\n",
       " '__delattr__',\n",
       " '__dict__',\n",
       " '__dir__',\n",
       " '__doc__',\n",
       " '__eq__',\n",
       " '__format__',\n",
       " '__ge__',\n",
       " '__getattribute__',\n",
       " '__gt__',\n",
       " '__hash__',\n",
       " '__init__',\n",
       " '__init_subclass__',\n",
       " '__le__',\n",
       " '__lt__',\n",
       " '__module__',\n",
       " '__ne__',\n",
       " '__new__',\n",
       " '__reduce__',\n",
       " '__reduce_ex__',\n",
       " '__repr__',\n",
       " '__setattr__',\n",
       " '__sizeof__',\n",
       " '__str__',\n",
       " '__subclasshook__',\n",
       " '__weakref__',\n",
       " 'deunify',\n",
       " 'download_samples',\n",
       " 'hashsoup',\n",
       " 'lifelib',\n",
       " 'load',\n",
       " 'load_timeline',\n",
       " 'loadu',\n",
       " 'n_layers',\n",
       " 'pattern',\n",
       " 'ptr',\n",
       " 'save_timeline',\n",
       " 'session',\n",
       " 'unify']"
      ]
     },
     "execution_count": 38,
     "metadata": {},
     "output_type": "execute_result"
    }
   ],
   "source": [
    "dir(lt)"
   ]
  },
  {
   "cell_type": "code",
   "execution_count": 42,
   "metadata": {},
   "outputs": [],
   "source": [
    "lt.pattern??"
   ]
  },
  {
   "cell_type": "code",
   "execution_count": 60,
   "metadata": {},
   "outputs": [],
   "source": [
    "#####x = 128, y = 173, rule = B3/S23\n",
    "####x = 128, y = 173\n",
    "#rle='', rule=None\n",
    "p1 = lt.pattern('''\n",
    "20b3o17b3o26bo4b3o17b3o17b3o11b$15b2ob2obo19bob2ob2o20b3o2bo2bo12b2ob\n",
    "2obo19bob2ob2o6b$15b2o4bob2o13b2obo4b2o13b3o4bob2o4bo12b2o4bob2o13b2ob\n",
    "o4b2o6b$14bo2bo3bobobo11bobobo3bo2bo11bo2bo5b4o3bo11bo2bo3bobobo11bobo\n",
    "bo3bo2bo5b\n",
    "''')"
   ]
  },
  {
   "cell_type": "code",
   "execution_count": 55,
   "metadata": {},
   "outputs": [],
   "source": [
    "\"\"\"p1 = lt.pattern(rle='''20b3o1bobobo3bo2bo11b3o17b3o11b$15b2ob2obo19bob2ob2o20b3o2bo2bo12b2ob\n",
    "2obo19bob2ob2o6b$15b2o4bob2o13b2obo4b2o13b3o4bob2o4bo12b2o4bob2o13b2ob\n",
    "o4b2o6b$14bo2bo3bobobbbo2bo5b ''' ,  rule=\"r2b7t10s7t12\"  )  \"\"\""
   ]
  },
  {
   "cell_type": "code",
   "execution_count": 61,
   "metadata": {},
   "outputs": [
    {
     "data": {
      "text/plain": [
       "'r2b7t9s7t10'"
      ]
     },
     "execution_count": 61,
     "metadata": {},
     "output_type": "execute_result"
    }
   ],
   "source": [
    "p1.getrule()"
   ]
  },
  {
   "cell_type": "code",
   "execution_count": 33,
   "metadata": {},
   "outputs": [
    {
     "data": {
      "text/plain": [
       "{'comments': [],\n",
       " 'lifelib': <lifelib.pythlib.lowlevel.WrappedLibrary at 0x7fdf1c14c710>,\n",
       " 'owner': <lifelib.pythlib.session.Lifetree at 0x7fdf1c057438>,\n",
       " 'ptr': (23598240,),\n",
       " 'session': <lifelib.pythlib.session.Session at 0x7fdf1c14c748>}"
      ]
     },
     "execution_count": 33,
     "metadata": {},
     "output_type": "execute_result"
    }
   ],
   "source": [
    "p1.__dict__\n"
   ]
  },
  {
   "cell_type": "code",
   "execution_count": null,
   "metadata": {},
   "outputs": [],
   "source": []
  },
  {
   "cell_type": "code",
   "execution_count": 26,
   "metadata": {
    "scrolled": true
   },
   "outputs": [
    {
     "data": {
      "text/plain": [
       "['__add__',\n",
       " '__and__',\n",
       " '__bool__',\n",
       " '__call__',\n",
       " '__class__',\n",
       " '__copy__',\n",
       " '__del__',\n",
       " '__delattr__',\n",
       " '__dict__',\n",
       " '__dir__',\n",
       " '__doc__',\n",
       " '__eq__',\n",
       " '__format__',\n",
       " '__ge__',\n",
       " '__getattribute__',\n",
       " '__getitem__',\n",
       " '__gt__',\n",
       " '__hash__',\n",
       " '__iadd__',\n",
       " '__iand__',\n",
       " '__imatmul__',\n",
       " '__imul__',\n",
       " '__init__',\n",
       " '__init_subclass__',\n",
       " '__ior__',\n",
       " '__isub__',\n",
       " '__ixor__',\n",
       " '__le__',\n",
       " '__lshift__',\n",
       " '__lt__',\n",
       " '__matmul__',\n",
       " '__module__',\n",
       " '__mul__',\n",
       " '__ne__',\n",
       " '__new__',\n",
       " '__nonzero__',\n",
       " '__or__',\n",
       " '__pow__',\n",
       " '__reduce__',\n",
       " '__reduce_ex__',\n",
       " '__repr__',\n",
       " '__rshift__',\n",
       " '__setattr__',\n",
       " '__setitem__',\n",
       " '__sizeof__',\n",
       " '__str__',\n",
       " '__sub__',\n",
       " '__subclasshook__',\n",
       " '__weakref__',\n",
       " '__xor__',\n",
       " '_bitshift',\n",
       " '_boolean_immutable',\n",
       " '_boolean_mutable',\n",
       " '_getbound',\n",
       " '_semisolid',\n",
       " '_solid',\n",
       " '_subpops',\n",
       " 'advance',\n",
       " 'apgcode',\n",
       " 'bounding_box',\n",
       " 'centre',\n",
       " 'comments',\n",
       " 'component_containing',\n",
       " 'components',\n",
       " 'convolve',\n",
       " 'coords',\n",
       " 'destream',\n",
       " 'disjunct',\n",
       " 'displacement',\n",
       " 'download_samples',\n",
       " 'download_synthesis',\n",
       " 'empty',\n",
       " 'getrect',\n",
       " 'getrule',\n",
       " 'layers',\n",
       " 'lifelib',\n",
       " 'match',\n",
       " 'nonempty',\n",
       " 'onecell',\n",
       " 'oscar',\n",
       " 'owner',\n",
       " 'pdetect_or_advance',\n",
       " 'period',\n",
       " 'phase_wechsler',\n",
       " 'population',\n",
       " 'ptr',\n",
       " 'replace',\n",
       " 'rle_string',\n",
       " 'save',\n",
       " 'session',\n",
       " 'shift',\n",
       " 'stream',\n",
       " 'transform',\n",
       " 'viewer',\n",
       " 'wechsler',\n",
       " 'write_file',\n",
       " 'write_rle']"
      ]
     },
     "execution_count": 26,
     "metadata": {},
     "output_type": "execute_result"
    }
   ],
   "source": [
    "dir(p1)"
   ]
  },
  {
   "cell_type": "code",
   "execution_count": 34,
   "metadata": {},
   "outputs": [
    {
     "data": {
      "text/plain": [
       "[14, 0, 109, 4]"
      ]
     },
     "execution_count": 34,
     "metadata": {},
     "output_type": "execute_result"
    }
   ],
   "source": [
    "p1.bounding_box"
   ]
  },
  {
   "cell_type": "code",
   "execution_count": 35,
   "metadata": {},
   "outputs": [
    {
     "data": {
      "text/plain": [
       "[14, 0, 109, 4]"
      ]
     },
     "execution_count": 35,
     "metadata": {},
     "output_type": "execute_result"
    }
   ],
   "source": [
    "p1.getrect()"
   ]
  },
  {
   "cell_type": "code",
   "execution_count": 36,
   "metadata": {},
   "outputs": [
    {
     "data": {
      "text/plain": [
       "(<Pattern(logdiam=8, beszel_index=2, ulqoma_index=0, rule=b3s23) owned by <lifelib.pythlib.session.Lifetree object at 0x7fdf1c057438>>,\n",
       " <Pattern(logdiam=8, beszel_index=0, ulqoma_index=0, rule=b3s23) owned by <lifelib.pythlib.session.Lifetree object at 0x7fdf1c057438>>,\n",
       " <Pattern(logdiam=8, beszel_index=0, ulqoma_index=0, rule=b3s23) owned by <lifelib.pythlib.session.Lifetree object at 0x7fdf1c057438>>,\n",
       " <Pattern(logdiam=8, beszel_index=0, ulqoma_index=0, rule=b3s23) owned by <lifelib.pythlib.session.Lifetree object at 0x7fdf1c057438>>)"
      ]
     },
     "execution_count": 36,
     "metadata": {},
     "output_type": "execute_result"
    }
   ],
   "source": [
    "p1.layers()"
   ]
  },
  {
   "cell_type": "code",
   "execution_count": 62,
   "metadata": {},
   "outputs": [
    {
     "ename": "NameError",
     "evalue": "name 'a' is not defined",
     "output_type": "error",
     "traceback": [
      "\u001b[0;31m---------------------------------------------------------------------------\u001b[0m",
      "\u001b[0;31mNameError\u001b[0m                                 Traceback (most recent call last)",
      "\u001b[0;32m<ipython-input-62-29fd31464b3e>\u001b[0m in \u001b[0;36m<module>\u001b[0;34m()\u001b[0m\n\u001b[0;32m----> 1\u001b[0;31m \u001b[0ma\u001b[0m\u001b[0;34m(\u001b[0m\u001b[0;34m\"b\"\u001b[0m\u001b[0;34m)\u001b[0m\u001b[0;34m\u001b[0m\u001b[0;34m\u001b[0m\u001b[0m\n\u001b[0m",
      "\u001b[0;31mNameError\u001b[0m: name 'a' is not defined"
     ]
    }
   ],
   "source": [
    ",a b"
   ]
  },
  {
   "cell_type": "code",
   "execution_count": 65,
   "metadata": {},
   "outputs": [
    {
     "ename": "NameError",
     "evalue": "name 'a' is not defined",
     "output_type": "error",
     "traceback": [
      "\u001b[0;31m---------------------------------------------------------------------------\u001b[0m",
      "\u001b[0;31mNameError\u001b[0m                                 Traceback (most recent call last)",
      "\u001b[0;32m<ipython-input-65-28ad0f34a052>\u001b[0m in \u001b[0;36m<module>\u001b[0;34m()\u001b[0m\n\u001b[0;32m----> 1\u001b[0;31m \u001b[0ma\u001b[0m\u001b[0;34m(\u001b[0m\u001b[0mb\u001b[0m\u001b[0;34m,\u001b[0m \u001b[0mc\u001b[0m\u001b[0;34m)\u001b[0m\u001b[0;34m\u001b[0m\u001b[0;34m\u001b[0m\u001b[0m\n\u001b[0m",
      "\u001b[0;31mNameError\u001b[0m: name 'a' is not defined"
     ]
    }
   ],
   "source": [
    "/a b c"
   ]
  },
  {
   "cell_type": "code",
   "execution_count": 64,
   "metadata": {},
   "outputs": [
    {
     "ename": "NameError",
     "evalue": "name 'a' is not defined",
     "output_type": "error",
     "traceback": [
      "\u001b[0;31m---------------------------------------------------------------------------\u001b[0m",
      "\u001b[0;31mNameError\u001b[0m                                 Traceback (most recent call last)",
      "\u001b[0;32m<ipython-input-64-8d7b4527e81d>\u001b[0m in \u001b[0;36m<module>\u001b[0;34m()\u001b[0m\n\u001b[0;32m----> 1\u001b[0;31m \u001b[0ma\u001b[0m\u001b[0;34m(\u001b[0m\u001b[0;34m)\u001b[0m\u001b[0;34m\u001b[0m\u001b[0;34m\u001b[0m\u001b[0m\n\u001b[0m",
      "\u001b[0;31mNameError\u001b[0m: name 'a' is not defined"
     ]
    }
   ],
   "source": [
    "/a"
   ]
  },
  {
   "cell_type": "code",
   "execution_count": null,
   "metadata": {},
   "outputs": [],
   "source": []
  }
 ],
 "metadata": {
  "kernelspec": {
   "display_name": "Python 3",
   "language": "python",
   "name": "python3"
  },
  "language_info": {
   "codemirror_mode": {
    "name": "ipython",
    "version": 3
   },
   "file_extension": ".py",
   "mimetype": "text/x-python",
   "name": "python",
   "nbconvert_exporter": "python",
   "pygments_lexer": "ipython3",
   "version": "3.6.9"
  }
 },
 "nbformat": 4,
 "nbformat_minor": 2
}
