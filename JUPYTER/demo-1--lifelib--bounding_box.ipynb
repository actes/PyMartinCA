{
 "cells": [
  {
   "cell_type": "code",
   "execution_count": 4,
   "metadata": {},
   "outputs": [
    {
     "name": "stdout",
     "output_type": "stream",
     "text": [
      "[0, 0, 32, 1000]\n",
      "[-4, 22, 438, 954]\n",
      "tag1 time_s time11 pop_s population space_s w2 h2 w h rule_s rulespace rulestr\n",
      "soup time 2000 pop 291 space 1000 32 932 442 rule lifelib r2b7t9s7t10\n"
     ]
    }
   ],
   "source": [
    "from __future__ import print_function\n",
    "import lifelib\n",
    "\n",
    "################ tunable parameters\n",
    "\n",
    "#rulestr='b3s23'\n",
    "rulestr='r2b7t9s7t10'\n",
    "\n",
    "w2=1000#100#1000#256#128#16#25\n",
    "h2=32#16\n",
    "niter=2000#6#2000#1000#500#10000#5000#800 #2400 #1500\n",
    "\n",
    "###########################\n",
    "\n",
    "sess = lifelib.load_rules(rulestr)\n",
    "\n",
    "lt = sess.lifetree()\n",
    "\n",
    "\n",
    "p1=lt.pattern()\n",
    "p=0.5 #0.3\n",
    "p1[0:h2, 0:w2] = p\n",
    "\n",
    "bb=p1.bounding_box\n",
    "print(bb)\n",
    "\n",
    "p1 = p1[niter]\n",
    "\n",
    "#######################################\n",
    "\n",
    "bb=p1.bounding_box\n",
    "print(bb)\n",
    "\n",
    "h=1\n",
    "w=1\n",
    "if bb:\n",
    "    h=bb[2]-bb[0]\n",
    "    w=bb[3]-bb[1]\n",
    "\n",
    "schema1='tag1,time_s,time11,pop_s,population,space_s,w2,h2,w,h,rule_s,rulespace,rulestr'\n",
    "print(schema1.replace(',',' '))\n",
    "\n",
    "tag1='soup'\n",
    "time_s='time'\n",
    "time11=niter\n",
    "pop_s='pop'\n",
    "population=p1.population\n",
    "space_s='space'\n",
    "rule_s='rule'\n",
    "rulespace='lifelib'\n",
    "\n",
    "print(tag1,time_s,time11,pop_s,population,space_s,w2,h2,w,h,rule_s,rulespace,rulestr)\n"
   ]
  },
  {
   "cell_type": "code",
   "execution_count": null,
   "metadata": {},
   "outputs": [],
   "source": []
  }
 ],
 "metadata": {
  "kernelspec": {
   "display_name": "Python 3",
   "language": "python",
   "name": "python3"
  },
  "language_info": {
   "codemirror_mode": {
    "name": "ipython",
    "version": 3
   },
   "file_extension": ".py",
   "mimetype": "text/x-python",
   "name": "python",
   "nbconvert_exporter": "python",
   "pygments_lexer": "ipython3",
   "version": "3.6.9"
  }
 },
 "nbformat": 4,
 "nbformat_minor": 2
}
